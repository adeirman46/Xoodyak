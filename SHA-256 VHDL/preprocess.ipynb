{
 "cells": [
  {
   "cell_type": "code",
   "execution_count": 1,
   "metadata": {},
   "outputs": [],
   "source": [
    "def preprocess(msg):\n",
    "        msg_blocks = []\n",
    "        message_bit = ''\n",
    "\n",
    "        for i in range(len(msg)):\n",
    "            binary_msg = bin(ord(msg[i]))[2:]\n",
    "            while len(binary_msg) < 8:\n",
    "                binary_msg = '0' + binary_msg\n",
    "            message_bit += binary_msg\n",
    "\n",
    "        len_msg_pad = bin(len(message_bit))[2:]\n",
    "        while len(len_msg_pad) < 64:\n",
    "            len_msg_pad = '0' + len_msg_pad\n",
    "\n",
    "        message_bit += '1'\n",
    "\n",
    "        while (len(message_bit) % 512) < 448:\n",
    "            message_bit += '0'\n",
    "\n",
    "        message_bit += len_msg_pad\n",
    "        for i in range(len(message_bit)):\n",
    "            if i % 512 == 0:\n",
    "                msg_blocks.append(message_bit[i : i+512])\n",
    "\n",
    "        num_of_blocks = len(msg_blocks)\n",
    "        return msg_blocks, num_of_blocks"
   ]
  },
  {
   "cell_type": "code",
   "execution_count": 2,
   "metadata": {},
   "outputs": [
    {
     "data": {
      "text/plain": [
       "(['01101001001000000110110001101111011101100110010100100000011110010110111101110101100000000000000000000000000000000000000000000000000000000000000000000000000000000000000000000000000000000000000000000000000000000000000000000000000000000000000000000000000000000000000000000000000000000000000000000000000000000000000000000000000000000000000000000000000000000000000000000000000000000000000000000000000000000000000000000000000000000000000000000000000000000000000000000000000000000000000000000000000000000000000001010000'],\n",
       " 1)"
      ]
     },
     "execution_count": 2,
     "metadata": {},
     "output_type": "execute_result"
    }
   ],
   "source": [
    "preprocess('i love you')"
   ]
  },
  {
   "cell_type": "code",
   "execution_count": null,
   "metadata": {},
   "outputs": [],
   "source": []
  }
 ],
 "metadata": {
  "kernelspec": {
   "display_name": "tf_gpu",
   "language": "python",
   "name": "python3"
  },
  "language_info": {
   "codemirror_mode": {
    "name": "ipython",
    "version": 3
   },
   "file_extension": ".py",
   "mimetype": "text/x-python",
   "name": "python",
   "nbconvert_exporter": "python",
   "pygments_lexer": "ipython3",
   "version": "3.9.13"
  },
  "orig_nbformat": 4,
  "vscode": {
   "interpreter": {
    "hash": "9738687a9c871d480fe8cf181a10b829556a21f804d691f67e6b8df95bc15a09"
   }
  }
 },
 "nbformat": 4,
 "nbformat_minor": 2
}
